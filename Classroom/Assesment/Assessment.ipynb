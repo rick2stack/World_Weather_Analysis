{
 "cells": [
  {
   "cell_type": "code",
   "execution_count": 1,
   "metadata": {},
   "outputs": [],
   "source": [
    "import os\n",
    "import csv\n",
    "import pandas as pd\n"
   ]
  },
  {
   "cell_type": "code",
   "execution_count": 2,
   "metadata": {},
   "outputs": [
    {
     "data": {
      "text/html": [
       "<div>\n",
       "<style scoped>\n",
       "    .dataframe tbody tr th:only-of-type {\n",
       "        vertical-align: middle;\n",
       "    }\n",
       "\n",
       "    .dataframe tbody tr th {\n",
       "        vertical-align: top;\n",
       "    }\n",
       "\n",
       "    .dataframe thead th {\n",
       "        text-align: right;\n",
       "    }\n",
       "</style>\n",
       "<table border=\"1\" class=\"dataframe\">\n",
       "  <thead>\n",
       "    <tr style=\"text-align: right;\">\n",
       "      <th></th>\n",
       "      <th>LastName</th>\n",
       "      <th>FirstName</th>\n",
       "      <th>Employer</th>\n",
       "      <th>City</th>\n",
       "      <th>State</th>\n",
       "      <th>Zip</th>\n",
       "      <th>Amount</th>\n",
       "      <th>FIELD8</th>\n",
       "    </tr>\n",
       "  </thead>\n",
       "  <tbody>\n",
       "    <tr>\n",
       "      <th>0</th>\n",
       "      <td>Aaron</td>\n",
       "      <td>Eugene</td>\n",
       "      <td>State Department</td>\n",
       "      <td>Dulles</td>\n",
       "      <td>VA</td>\n",
       "      <td>20189</td>\n",
       "      <td>500.0</td>\n",
       "      <td>NaN</td>\n",
       "    </tr>\n",
       "    <tr>\n",
       "      <th>1</th>\n",
       "      <td>Abadi</td>\n",
       "      <td>Barbara</td>\n",
       "      <td>Abadi &amp; Co.</td>\n",
       "      <td>New York</td>\n",
       "      <td>NY</td>\n",
       "      <td>10021</td>\n",
       "      <td>200.0</td>\n",
       "      <td>NaN</td>\n",
       "    </tr>\n",
       "    <tr>\n",
       "      <th>2</th>\n",
       "      <td>Adamany</td>\n",
       "      <td>Anthony</td>\n",
       "      <td>Retired</td>\n",
       "      <td>Rockford</td>\n",
       "      <td>IL</td>\n",
       "      <td>61103</td>\n",
       "      <td>500.0</td>\n",
       "      <td>NaN</td>\n",
       "    </tr>\n",
       "    <tr>\n",
       "      <th>3</th>\n",
       "      <td>Adams</td>\n",
       "      <td>Lorraine</td>\n",
       "      <td>Self</td>\n",
       "      <td>New York</td>\n",
       "      <td>NY</td>\n",
       "      <td>10026</td>\n",
       "      <td>200.0</td>\n",
       "      <td>NaN</td>\n",
       "    </tr>\n",
       "    <tr>\n",
       "      <th>4</th>\n",
       "      <td>Adams</td>\n",
       "      <td>Marion</td>\n",
       "      <td>None</td>\n",
       "      <td>Exeter</td>\n",
       "      <td>NH</td>\n",
       "      <td>03833</td>\n",
       "      <td>100.0</td>\n",
       "      <td>NaN</td>\n",
       "    </tr>\n",
       "    <tr>\n",
       "      <th>...</th>\n",
       "      <td>...</td>\n",
       "      <td>...</td>\n",
       "      <td>...</td>\n",
       "      <td>...</td>\n",
       "      <td>...</td>\n",
       "      <td>...</td>\n",
       "      <td>...</td>\n",
       "      <td>...</td>\n",
       "    </tr>\n",
       "    <tr>\n",
       "      <th>1771</th>\n",
       "      <td>Zinczenko</td>\n",
       "      <td>David</td>\n",
       "      <td>Rodale</td>\n",
       "      <td>Allentown</td>\n",
       "      <td>PA</td>\n",
       "      <td>18102</td>\n",
       "      <td>500.0</td>\n",
       "      <td>NaN</td>\n",
       "    </tr>\n",
       "    <tr>\n",
       "      <th>1772</th>\n",
       "      <td>Zschiesche</td>\n",
       "      <td>Peter</td>\n",
       "      <td>NaN</td>\n",
       "      <td>San Diego</td>\n",
       "      <td>CA</td>\n",
       "      <td>92104</td>\n",
       "      <td>250.0</td>\n",
       "      <td>NaN</td>\n",
       "    </tr>\n",
       "    <tr>\n",
       "      <th>1773</th>\n",
       "      <td>Zweidinger</td>\n",
       "      <td>Ruth</td>\n",
       "      <td>NaN</td>\n",
       "      <td>Hillsborough</td>\n",
       "      <td>NC</td>\n",
       "      <td>27278</td>\n",
       "      <td>250.0</td>\n",
       "      <td>NaN</td>\n",
       "    </tr>\n",
       "    <tr>\n",
       "      <th>1774</th>\n",
       "      <td>Zwerdling</td>\n",
       "      <td>David</td>\n",
       "      <td>Montg Cnty, Md</td>\n",
       "      <td>Silver Spring</td>\n",
       "      <td>MD</td>\n",
       "      <td>20910</td>\n",
       "      <td>35.0</td>\n",
       "      <td>NaN</td>\n",
       "    </tr>\n",
       "    <tr>\n",
       "      <th>1775</th>\n",
       "      <td>Zyskind</td>\n",
       "      <td>Jon</td>\n",
       "      <td>JDS Uniphase</td>\n",
       "      <td>Concord</td>\n",
       "      <td>MA</td>\n",
       "      <td>10742</td>\n",
       "      <td>25.0</td>\n",
       "      <td>NaN</td>\n",
       "    </tr>\n",
       "  </tbody>\n",
       "</table>\n",
       "<p>1776 rows × 8 columns</p>\n",
       "</div>"
      ],
      "text/plain": [
       "        LastName FirstName          Employer           City State    Zip  \\\n",
       "0          Aaron    Eugene  State Department         Dulles    VA  20189   \n",
       "1          Abadi   Barbara       Abadi & Co.       New York    NY  10021   \n",
       "2        Adamany   Anthony           Retired       Rockford    IL  61103   \n",
       "3          Adams  Lorraine              Self       New York    NY  10026   \n",
       "4          Adams    Marion              None         Exeter    NH  03833   \n",
       "...          ...       ...               ...            ...   ...    ...   \n",
       "1771   Zinczenko     David            Rodale      Allentown    PA  18102   \n",
       "1772  Zschiesche     Peter               NaN      San Diego    CA  92104   \n",
       "1773  Zweidinger      Ruth               NaN   Hillsborough    NC  27278   \n",
       "1774   Zwerdling     David    Montg Cnty, Md  Silver Spring    MD  20910   \n",
       "1775     Zyskind       Jon      JDS Uniphase        Concord    MA  10742   \n",
       "\n",
       "      Amount  FIELD8  \n",
       "0      500.0     NaN  \n",
       "1      200.0     NaN  \n",
       "2      500.0     NaN  \n",
       "3      200.0     NaN  \n",
       "4      100.0     NaN  \n",
       "...      ...     ...  \n",
       "1771   500.0     NaN  \n",
       "1772   250.0     NaN  \n",
       "1773   250.0     NaN  \n",
       "1774    35.0     NaN  \n",
       "1775    25.0     NaN  \n",
       "\n",
       "[1776 rows x 8 columns]"
      ]
     },
     "execution_count": 2,
     "metadata": {},
     "output_type": "execute_result"
    }
   ],
   "source": [
    "donors_data=pd.read_csv(\"donors2008.csv\")\n",
    "donors_data_pd=pd.DataFrame(donors_data)\n",
    "donors_data_pd"
   ]
  },
  {
   "cell_type": "code",
   "execution_count": 3,
   "metadata": {},
   "outputs": [
    {
     "data": {
      "text/plain": [
       "Amount    9\n",
       "dtype: int64"
      ]
     },
     "execution_count": 3,
     "metadata": {},
     "output_type": "execute_result"
    }
   ],
   "source": [
    "donors_perstate=donors_data_pd[[\"State\",\"Amount\"]].groupby([\"State\"]).mean()\n",
    "donors_perstate_filter=donors_perstate.loc[donors_perstate[\"Amount\"]>= 750].count()\n",
    "donors_perstate_filter"
   ]
  },
  {
   "cell_type": "code",
   "execution_count": 4,
   "metadata": {},
   "outputs": [],
   "source": [
    "donors_perstate.to_csv(\"donors_perstate.csv\")"
   ]
  },
  {
   "cell_type": "code",
   "execution_count": 5,
   "metadata": {},
   "outputs": [],
   "source": [
    "file_to_save=os.path.join(\"employees.txt\")\n",
    "with open (file_to_save, \"w\") as new_file:\n",
    "    employees= (\n",
    "        f\"Frist Name, Last Name, SSN\\n\"\n",
    "        f\"Caleb, Frost, 505-80-2091\\n'\")\n",
    "    new_file.write(employees)"
   ]
  },
  {
   "cell_type": "code",
   "execution_count": 6,
   "metadata": {},
   "outputs": [],
   "source": [
    "A={\"A\":1,\"b\":2}"
   ]
  },
  {
   "cell_type": "code",
   "execution_count": 7,
   "metadata": {},
   "outputs": [
    {
     "data": {
      "text/plain": [
       "dict_keys(['A', 'b'])"
      ]
     },
     "execution_count": 7,
     "metadata": {},
     "output_type": "execute_result"
    }
   ],
   "source": [
    "A.keys()"
   ]
  },
  {
   "cell_type": "code",
   "execution_count": 8,
   "metadata": {},
   "outputs": [
    {
     "name": "stdout",
     "output_type": "stream",
     "text": [
      "['Frank', 'Mary', 'Jasmine', 'Ivana', 'Ahmed', 'Serena']\n"
     ]
    }
   ],
   "source": [
    "students = [\"Frank\", \"Mary\", \"Jasmine\", \"Ivana\", \"Ahmed\"]\n",
    "students.append(\"Serena\")\n",
    "print(students)"
   ]
  },
  {
   "cell_type": "code",
   "execution_count": 9,
   "metadata": {},
   "outputs": [
    {
     "data": {
      "text/html": [
       "<div>\n",
       "<style scoped>\n",
       "    .dataframe tbody tr th:only-of-type {\n",
       "        vertical-align: middle;\n",
       "    }\n",
       "\n",
       "    .dataframe tbody tr th {\n",
       "        vertical-align: top;\n",
       "    }\n",
       "\n",
       "    .dataframe thead th {\n",
       "        text-align: right;\n",
       "    }\n",
       "</style>\n",
       "<table border=\"1\" class=\"dataframe\">\n",
       "  <thead>\n",
       "    <tr style=\"text-align: right;\">\n",
       "      <th></th>\n",
       "      <th>State</th>\n",
       "      <th>Inches</th>\n",
       "      <th>Milli­metres</th>\n",
       "      <th>Rank</th>\n",
       "    </tr>\n",
       "  </thead>\n",
       "  <tbody>\n",
       "    <tr>\n",
       "      <th>8</th>\n",
       "      <td>Florida</td>\n",
       "      <td>54.5</td>\n",
       "      <td>1385</td>\n",
       "      <td>5</td>\n",
       "    </tr>\n",
       "    <tr>\n",
       "      <th>0</th>\n",
       "      <td>Alabama</td>\n",
       "      <td>58.3</td>\n",
       "      <td>1480</td>\n",
       "      <td>4</td>\n",
       "    </tr>\n",
       "    <tr>\n",
       "      <th>23</th>\n",
       "      <td>Mississippi</td>\n",
       "      <td>59.0</td>\n",
       "      <td>1499</td>\n",
       "      <td>3</td>\n",
       "    </tr>\n",
       "    <tr>\n",
       "      <th>17</th>\n",
       "      <td>Louisiana</td>\n",
       "      <td>60.1</td>\n",
       "      <td>1528</td>\n",
       "      <td>2</td>\n",
       "    </tr>\n",
       "    <tr>\n",
       "      <th>10</th>\n",
       "      <td>Hawaii</td>\n",
       "      <td>63.7</td>\n",
       "      <td>1618</td>\n",
       "      <td>1</td>\n",
       "    </tr>\n",
       "  </tbody>\n",
       "</table>\n",
       "</div>"
      ],
      "text/plain": [
       "          State  Inches  Milli­metres  Rank\n",
       "8       Florida    54.5          1385     5\n",
       "0       Alabama    58.3          1480     4\n",
       "23  Mississippi    59.0          1499     3\n",
       "17    Louisiana    60.1          1528     2\n",
       "10       Hawaii    63.7          1618     1"
      ]
     },
     "execution_count": 9,
     "metadata": {},
     "output_type": "execute_result"
    }
   ],
   "source": [
    "rain_data=pd.read_csv(\"avg_rain_state.csv\")\n",
    "rain_data.sort_values([\"Rank\"],ascending=False).tail()"
   ]
  },
  {
   "cell_type": "code",
   "execution_count": 10,
   "metadata": {},
   "outputs": [],
   "source": [
    "states=rain_data[\"State\"]\n"
   ]
  },
  {
   "cell_type": "code",
   "execution_count": 13,
   "metadata": {},
   "outputs": [
    {
     "data": {
      "image/png": "[encoded data removed]",
      "text/plain": [
       "<Figure size 1440x216 with 1 Axes>"
      ]
     },
     "metadata": {
      "needs_background": "light"
     },
     "output_type": "display_data"
    }
   ],
   "source": [
    "# Dependencies\n",
    "import pandas as pd\n",
    "import numpy as np\n",
    "import matplotlib.pyplot as plt\n",
    "df=rain_data\n",
    "# Create graph\n",
    "x_axis = np.arange(len(df))\n",
    "tick_locations = [value for value in df[\"State\"]]\n",
    "plt.figure(figsize=(20,3))\n",
    "plt.bar(df[\"State\"],df[\"Inches\"])\n",
    "plt.xticks(tick_locations,df[\"State\"],rotation=\"vertical\")\n",
    "plt.title(\"Rain in Inches by State\")\n",
    "plt.xlabel(\"State\")\n",
    "plt.ylabel(\"Rain (inches)\")\n",
    "plt.show()"
   ]
  },
  {
   "cell_type": "code",
   "execution_count": 17,
   "metadata": {},
   "outputs": [
    {
     "data": {
      "text/plain": [
       "0    28.9\n",
       "1    42.2\n",
       "2    50.3\n",
       "dtype: float64"
      ]
     },
     "execution_count": 17,
     "metadata": {},
     "output_type": "execute_result"
    }
   ],
   "source": [
    "df[\"Inches\"].mode()"
   ]
  },
  {
   "cell_type": "code",
   "execution_count": 20,
   "metadata": {},
   "outputs": [
    {
     "data": {
      "text/plain": [
       "<module 'matplotlib.pyplot' from 'C:\\\\Users\\\\rdsm1\\\\Anaconda3\\\\lib\\\\site-packages\\\\matplotlib\\\\pyplot.py'>"
      ]
     },
     "execution_count": 20,
     "metadata": {},
     "output_type": "execute_result"
    },
    {
     "data": {
      "image/png": "[encoded data removed]",
      "text/plain": [
       "<Figure size 432x288 with 1 Axes>"
      ]
     },
     "metadata": {},
     "output_type": "display_data"
    }
   ],
   "source": [
    "pies = [\"Apple\", \"Pumpkin\", \"Chocolate Creme\", \"Cherry\", \"Apple Crumb\", \"Pecan\", \"Lemon Meringue\", \"Blueberry\", \"Key Lime\", \"Peach\"]\n",
    "pie_votes = [47,37,32,27,25,24,24,21,18,16]\n",
    "\n",
    "colors = [\"yellow\",\"green\",\"lightblue\",\"orange\",\"red\",\"purple\",\"pink\",\"yellowgreen\",\"lightskyblue\",\"lightcoral\"]\n",
    "offset = (0,0,0,0.2,0,0,0,0,0,0)\n",
    "plt.pie(pie_votes,labels=pies, colors=colors, explode=offset)\n",
    "plt"
   ]
  },
  {
   "cell_type": "code",
   "execution_count": 22,
   "metadata": {},
   "outputs": [
    {
     "data": {
      "text/plain": [
       "271"
      ]
     },
     "execution_count": 22,
     "metadata": {},
     "output_type": "execute_result"
    }
   ],
   "source": [
    "sum(pie_votes)"
   ]
  },
  {
   "cell_type": "code",
   "execution_count": 28,
   "metadata": {},
   "outputs": [],
   "source": []
  },
  {
   "cell_type": "code",
   "execution_count": 96,
   "metadata": {},
   "outputs": [
    {
     "data": {
      "text/plain": [
       "Index(['Class', 'Name', 'Test Score', 'Letter Grade'], dtype='object')"
      ]
     },
     "execution_count": 96,
     "metadata": {},
     "output_type": "execute_result"
    }
   ],
   "source": [
    "test_grades = {\n",
    "    'Class': ['Oct', 'Oct', 'Jan', 'Jan', 'Oct', 'Jan'], \n",
    "    'Name': [\"Cyndy\", \"Logan\", \"Laci\", \"Elmer\", \"Crystle\", \"Emmie\"], \n",
    "    'Test Score': [90, 59, 72, 88, 98, 60]}\n",
    "bins=[0, 59, 69, 79, 89, 100]\n",
    "letter_grades=['F','D','C','B','A']\n",
    "test_grades_df=pd.DataFrame(test_grades)\n",
    "test_grades_df[\"Letter Grade\"]=pd.cut(test_grades_df[\"Test Score\"],bins,labels=letter_grades)\n",
    "test_grades_df.columns"
   ]
  },
  {
   "cell_type": "code",
   "execution_count": 38,
   "metadata": {},
   "outputs": [
    {
     "data": {
      "text/plain": [
       "[{'padid': 5,\n",
       "  'id': 'vafb_slc_3w',\n",
       "  'name': 'VAFB SLC 3W',\n",
       "  'full_name': 'Vandenberg Air Force Base Space Launch Complex 3W',\n",
       "  'status': 'retired',\n",
       "  'location': {'name': 'Vandenberg Air Force Base',\n",
       "   'region': 'California',\n",
       "   'latitude': 34.6440904,\n",
       "   'longitude': -120.5931438},\n",
       "  'vehicles_launched': ['Falcon 1'],\n",
       "  'attempted_launches': 0,\n",
       "  'successful_launches': 0,\n",
       "  'wikipedia': 'https://en.wikipedia.org/wiki/Vandenberg_AFB_Space_Launch_Complex_3',\n",
       "  'details': 'SpaceX original west coast launch pad for Falcon 1. Performed a static fire but was never used for a launch and abandoned due to scheduling conflicts.'},\n",
       " {'padid': 2,\n",
       "  'id': 'ccafs_slc_40',\n",
       "  'name': 'CCAFS SLC 40',\n",
       "  'full_name': 'Cape Canaveral Air Force Station Space Launch Complex 40',\n",
       "  'status': 'active',\n",
       "  'location': {'name': 'Cape Canaveral',\n",
       "   'region': 'Florida',\n",
       "   'latitude': 28.5618571,\n",
       "   'longitude': -80.577366},\n",
       "  'vehicles_launched': ['Falcon 9'],\n",
       "  'attempted_launches': 61,\n",
       "  'successful_launches': 59,\n",
       "  'wikipedia': 'https://en.wikipedia.org/wiki/Cape_Canaveral_Air_Force_Station_Space_Launch_Complex_40',\n",
       "  'details': 'SpaceX primary Falcon 9 launch pad, where all east coast Falcon 9s launched prior to the AMOS-6 anomaly. Initially used to launch Titan rockets for Lockheed Martin. Back online since CRS-13 on 2017-12-15.'},\n",
       " {'padid': 8,\n",
       "  'id': 'stls',\n",
       "  'name': 'STLS',\n",
       "  'full_name': 'SpaceX South Texas Launch Site',\n",
       "  'status': 'under construction',\n",
       "  'location': {'name': 'Boca Chica Village',\n",
       "   'region': 'Texas',\n",
       "   'latitude': 25.9972641,\n",
       "   'longitude': -97.1560845},\n",
       "  'vehicles_launched': ['Falcon 9'],\n",
       "  'attempted_launches': 0,\n",
       "  'successful_launches': 0,\n",
       "  'wikipedia': 'https://en.wikipedia.org/wiki/SpaceX_South_Texas_Launch_Site',\n",
       "  'details': 'SpaceX new launch site currently under construction to help keep up with the Falcon 9 and Heavy manifests. Expected to be completed in late 2018. Initially will be limited to 12 flights per year, and only GTO launches.'},\n",
       " {'padid': 1,\n",
       "  'id': 'kwajalein_atoll',\n",
       "  'name': 'Kwajalein Atoll',\n",
       "  'full_name': 'Kwajalein Atoll Omelek Island',\n",
       "  'status': 'retired',\n",
       "  'location': {'name': 'Omelek Island',\n",
       "   'region': 'Marshall Islands',\n",
       "   'latitude': 9.0477206,\n",
       "   'longitude': 167.7431292},\n",
       "  'vehicles_launched': ['Falcon 1'],\n",
       "  'attempted_launches': 5,\n",
       "  'successful_launches': 2,\n",
       "  'wikipedia': 'https://en.wikipedia.org/wiki/Omelek_Island',\n",
       "  'details': 'SpaceX original launch site, where all of the Falcon 1 launches occured. Abandoned as SpaceX decided against upgrading the pad to support Falcon 9.'},\n",
       " {'padid': 6,\n",
       "  'id': 'vafb_slc_4e',\n",
       "  'name': 'VAFB SLC 4E',\n",
       "  'full_name': 'Vandenberg Air Force Base Space Launch Complex 4E',\n",
       "  'status': 'active',\n",
       "  'location': {'name': 'Vandenberg Air Force Base',\n",
       "   'region': 'California',\n",
       "   'latitude': 34.632093,\n",
       "   'longitude': -120.610829},\n",
       "  'vehicles_launched': ['Falcon 9'],\n",
       "  'attempted_launches': 16,\n",
       "  'successful_launches': 16,\n",
       "  'wikipedia': 'https://en.wikipedia.org/wiki/Vandenberg_AFB_Space_Launch_Complex_4',\n",
       "  'details': 'SpaceX primary west coast launch pad for polar orbits and sun synchronous orbits, primarily used for Iridium. Also intended to be capable of launching Falcon Heavy.'},\n",
       " {'padid': 4,\n",
       "  'id': 'ksc_lc_39a',\n",
       "  'name': 'KSC LC 39A',\n",
       "  'full_name': 'Kennedy Space Center Historic Launch Complex 39A',\n",
       "  'status': 'active',\n",
       "  'location': {'name': 'Cape Canaveral',\n",
       "   'region': 'Florida',\n",
       "   'latitude': 28.6080585,\n",
       "   'longitude': -80.6039558},\n",
       "  'vehicles_launched': ['Falcon 9', 'Falcon Heavy'],\n",
       "  'attempted_launches': 27,\n",
       "  'successful_launches': 26,\n",
       "  'wikipedia': 'https://en.wikipedia.org/wiki/Kennedy_Space_Center_Launch_Complex_39#Launch_Complex_39A',\n",
       "  'details': 'NASA historic launch pad that launched most of the Saturn V and Space Shuttle missions. Initially for Falcon Heavy launches, it is now launching all of SpaceX east coast missions due to the damage from the AMOS-6 anomaly. After SLC-40 repairs are complete, it will be upgraded to support Falcon Heavy, a process which will take about two months. In the future it will launch commercial crew missions and the Interplanetary Transport System.'}]"
      ]
     },
     "execution_count": 38,
     "metadata": {},
     "output_type": "execute_result"
    }
   ],
   "source": [
    "import requests\n",
    "url = \"https://api.spacexdata.com/v2/launchpads\"\n",
    "data=requests.get(url).json()\n",
    "data"
   ]
  },
  {
   "cell_type": "code",
   "execution_count": 67,
   "metadata": {},
   "outputs": [
    {
     "name": "stdout",
     "output_type": "stream",
     "text": [
      "Vandenberg Air Force Base Space Launch Complex 3W\n",
      "Cape Canaveral Air Force Station Space Launch Complex 40\n",
      "SpaceX South Texas Launch Site\n",
      "Kwajalein Atoll Omelek Island\n",
      "Vandenberg Air Force Base Space Launch Complex 4E\n",
      "Kennedy Space Center Historic Launch Complex 39A\n"
     ]
    }
   ],
   "source": [
    "for x in range(len(data)):\n",
    "    print(data[x][\"full_name\"])\n",
    "#print(data[0][\"full_name\"])\n",
    "#print(data[1][\"full_name\"])\n",
    "#print(data[2][\"full_name\"])\n",
    "#print(data[3][\"full_name\"])\n",
    "#print(data[4][\"full_name\"])\n",
    "#print(data[5][\"full_name\"])"
   ]
  },
  {
   "cell_type": "code",
   "execution_count": 91,
   "metadata": {},
   "outputs": [
    {
     "data": {
      "text/plain": [
       "'http://i.ytimg.com/vi/hYB0mn5zh2c/default.jpg'"
      ]
     },
     "execution_count": 91,
     "metadata": {},
     "output_type": "execute_result"
    }
   ],
   "source": [
    "import json\n",
    "import os\n",
    "\n",
    "filepath = os.path.join(\"youtube_response.json\")\n",
    "with open(filepath) as jsonfile:\n",
    "    video_json = json.load(jsonfile)\n",
    "video_json\n",
    "video_json[\"data\"][\"items\"][0]['thumbnail']['default']"
   ]
  },
  {
   "cell_type": "code",
   "execution_count": 92,
   "metadata": {},
   "outputs": [
    {
     "data": {
      "text/plain": [
       "[{'padid': 5,\n",
       "  'id': 'vafb_slc_3w',\n",
       "  'name': 'VAFB SLC 3W',\n",
       "  'full_name': 'Vandenberg Air Force Base Space Launch Complex 3W',\n",
       "  'status': 'retired',\n",
       "  'location': {'name': 'Vandenberg Air Force Base',\n",
       "   'region': 'California',\n",
       "   'latitude': 34.6440904,\n",
       "   'longitude': -120.5931438},\n",
       "  'vehicles_launched': ['Falcon 1'],\n",
       "  'attempted_launches': 0,\n",
       "  'successful_launches': 0,\n",
       "  'wikipedia': 'https://en.wikipedia.org/wiki/Vandenberg_AFB_Space_Launch_Complex_3',\n",
       "  'details': 'SpaceX original west coast launch pad for Falcon 1. Performed a static fire but was never used for a launch and abandoned due to scheduling conflicts.'},\n",
       " {'padid': 2,\n",
       "  'id': 'ccafs_slc_40',\n",
       "  'name': 'CCAFS SLC 40',\n",
       "  'full_name': 'Cape Canaveral Air Force Station Space Launch Complex 40',\n",
       "  'status': 'active',\n",
       "  'location': {'name': 'Cape Canaveral',\n",
       "   'region': 'Florida',\n",
       "   'latitude': 28.5618571,\n",
       "   'longitude': -80.577366},\n",
       "  'vehicles_launched': ['Falcon 9'],\n",
       "  'attempted_launches': 61,\n",
       "  'successful_launches': 59,\n",
       "  'wikipedia': 'https://en.wikipedia.org/wiki/Cape_Canaveral_Air_Force_Station_Space_Launch_Complex_40',\n",
       "  'details': 'SpaceX primary Falcon 9 launch pad, where all east coast Falcon 9s launched prior to the AMOS-6 anomaly. Initially used to launch Titan rockets for Lockheed Martin. Back online since CRS-13 on 2017-12-15.'},\n",
       " {'padid': 8,\n",
       "  'id': 'stls',\n",
       "  'name': 'STLS',\n",
       "  'full_name': 'SpaceX South Texas Launch Site',\n",
       "  'status': 'under construction',\n",
       "  'location': {'name': 'Boca Chica Village',\n",
       "   'region': 'Texas',\n",
       "   'latitude': 25.9972641,\n",
       "   'longitude': -97.1560845},\n",
       "  'vehicles_launched': ['Falcon 9'],\n",
       "  'attempted_launches': 0,\n",
       "  'successful_launches': 0,\n",
       "  'wikipedia': 'https://en.wikipedia.org/wiki/SpaceX_South_Texas_Launch_Site',\n",
       "  'details': 'SpaceX new launch site currently under construction to help keep up with the Falcon 9 and Heavy manifests. Expected to be completed in late 2018. Initially will be limited to 12 flights per year, and only GTO launches.'},\n",
       " {'padid': 1,\n",
       "  'id': 'kwajalein_atoll',\n",
       "  'name': 'Kwajalein Atoll',\n",
       "  'full_name': 'Kwajalein Atoll Omelek Island',\n",
       "  'status': 'retired',\n",
       "  'location': {'name': 'Omelek Island',\n",
       "   'region': 'Marshall Islands',\n",
       "   'latitude': 9.0477206,\n",
       "   'longitude': 167.7431292},\n",
       "  'vehicles_launched': ['Falcon 1'],\n",
       "  'attempted_launches': 5,\n",
       "  'successful_launches': 2,\n",
       "  'wikipedia': 'https://en.wikipedia.org/wiki/Omelek_Island',\n",
       "  'details': 'SpaceX original launch site, where all of the Falcon 1 launches occured. Abandoned as SpaceX decided against upgrading the pad to support Falcon 9.'},\n",
       " {'padid': 6,\n",
       "  'id': 'vafb_slc_4e',\n",
       "  'name': 'VAFB SLC 4E',\n",
       "  'full_name': 'Vandenberg Air Force Base Space Launch Complex 4E',\n",
       "  'status': 'active',\n",
       "  'location': {'name': 'Vandenberg Air Force Base',\n",
       "   'region': 'California',\n",
       "   'latitude': 34.632093,\n",
       "   'longitude': -120.610829},\n",
       "  'vehicles_launched': ['Falcon 9'],\n",
       "  'attempted_launches': 16,\n",
       "  'successful_launches': 16,\n",
       "  'wikipedia': 'https://en.wikipedia.org/wiki/Vandenberg_AFB_Space_Launch_Complex_4',\n",
       "  'details': 'SpaceX primary west coast launch pad for polar orbits and sun synchronous orbits, primarily used for Iridium. Also intended to be capable of launching Falcon Heavy.'},\n",
       " {'padid': 4,\n",
       "  'id': 'ksc_lc_39a',\n",
       "  'name': 'KSC LC 39A',\n",
       "  'full_name': 'Kennedy Space Center Historic Launch Complex 39A',\n",
       "  'status': 'active',\n",
       "  'location': {'name': 'Cape Canaveral',\n",
       "   'region': 'Florida',\n",
       "   'latitude': 28.6080585,\n",
       "   'longitude': -80.6039558},\n",
       "  'vehicles_launched': ['Falcon 9', 'Falcon Heavy'],\n",
       "  'attempted_launches': 27,\n",
       "  'successful_launches': 26,\n",
       "  'wikipedia': 'https://en.wikipedia.org/wiki/Kennedy_Space_Center_Launch_Complex_39#Launch_Complex_39A',\n",
       "  'details': 'NASA historic launch pad that launched most of the Saturn V and Space Shuttle missions. Initially for Falcon Heavy launches, it is now launching all of SpaceX east coast missions due to the damage from the AMOS-6 anomaly. After SLC-40 repairs are complete, it will be upgraded to support Falcon Heavy, a process which will take about two months. In the future it will launch commercial crew missions and the Interplanetary Transport System.'}]"
      ]
     },
     "execution_count": 92,
     "metadata": {},
     "output_type": "execute_result"
    }
   ],
   "source": []
  },
  {
   "cell_type": "code",
   "execution_count": 95,
   "metadata": {},
   "outputs": [
    {
     "ename": "AttributeError",
     "evalue": "'DataFrame' object has no attribute 'headers'",
     "output_type": "error",
     "traceback": [
      "\u001b[1;31m---------------------------------------------------------------------------\u001b[0m",
      "\u001b[1;31mAttributeError\u001b[0m                            Traceback (most recent call last)",
      "\u001b[1;32m<ipython-input-95-3381719a2907>\u001b[0m in \u001b[0;36m<module>\u001b[1;34m\u001b[0m\n\u001b[1;32m----> 1\u001b[1;33m \u001b[0mtest_grades_df\u001b[0m\u001b[1;33m.\u001b[0m\u001b[0mheaders\u001b[0m\u001b[1;33m(\u001b[0m\u001b[1;33m)\u001b[0m\u001b[1;33m\u001b[0m\u001b[1;33m\u001b[0m\u001b[0m\n\u001b[0m",
      "\u001b[1;32m~\\Anaconda3\\lib\\site-packages\\pandas\\core\\generic.py\u001b[0m in \u001b[0;36m__getattr__\u001b[1;34m(self, name)\u001b[0m\n\u001b[0;32m   5137\u001b[0m             \u001b[1;32mif\u001b[0m \u001b[0mself\u001b[0m\u001b[1;33m.\u001b[0m\u001b[0m_info_axis\u001b[0m\u001b[1;33m.\u001b[0m\u001b[0m_can_hold_identifiers_and_holds_name\u001b[0m\u001b[1;33m(\u001b[0m\u001b[0mname\u001b[0m\u001b[1;33m)\u001b[0m\u001b[1;33m:\u001b[0m\u001b[1;33m\u001b[0m\u001b[1;33m\u001b[0m\u001b[0m\n\u001b[0;32m   5138\u001b[0m                 \u001b[1;32mreturn\u001b[0m \u001b[0mself\u001b[0m\u001b[1;33m[\u001b[0m\u001b[0mname\u001b[0m\u001b[1;33m]\u001b[0m\u001b[1;33m\u001b[0m\u001b[1;33m\u001b[0m\u001b[0m\n\u001b[1;32m-> 5139\u001b[1;33m             \u001b[1;32mreturn\u001b[0m \u001b[0mobject\u001b[0m\u001b[1;33m.\u001b[0m\u001b[0m__getattribute__\u001b[0m\u001b[1;33m(\u001b[0m\u001b[0mself\u001b[0m\u001b[1;33m,\u001b[0m \u001b[0mname\u001b[0m\u001b[1;33m)\u001b[0m\u001b[1;33m\u001b[0m\u001b[1;33m\u001b[0m\u001b[0m\n\u001b[0m\u001b[0;32m   5140\u001b[0m \u001b[1;33m\u001b[0m\u001b[0m\n\u001b[0;32m   5141\u001b[0m     \u001b[1;32mdef\u001b[0m \u001b[0m__setattr__\u001b[0m\u001b[1;33m(\u001b[0m\u001b[0mself\u001b[0m\u001b[1;33m,\u001b[0m \u001b[0mname\u001b[0m\u001b[1;33m:\u001b[0m \u001b[0mstr\u001b[0m\u001b[1;33m,\u001b[0m \u001b[0mvalue\u001b[0m\u001b[1;33m)\u001b[0m \u001b[1;33m->\u001b[0m \u001b[1;32mNone\u001b[0m\u001b[1;33m:\u001b[0m\u001b[1;33m\u001b[0m\u001b[1;33m\u001b[0m\u001b[0m\n",
      "\u001b[1;31mAttributeError\u001b[0m: 'DataFrame' object has no attribute 'headers'"
     ]
    }
   ],
   "source": [
    "test_grades_df.headers()"
   ]
  },
  {
   "cell_type": "code",
   "execution_count": null,
   "metadata": {},
   "outputs": [],
   "source": []
  }
 ],
 "metadata": {
  "kernelspec": {
   "display_name": "Python 3",
   "language": "python",
   "name": "python3"
  },
  "language_info": {
   "codemirror_mode": {
    "name": "ipython",
    "version": 3
   },
   "file_extension": ".py",
   "mimetype": "text/x-python",
   "name": "python",
   "nbconvert_exporter": "python",
   "pygments_lexer": "ipython3",
   "version": "3.8.5"
  }
 },
 "nbformat": 4,
 "nbformat_minor": 4
}
